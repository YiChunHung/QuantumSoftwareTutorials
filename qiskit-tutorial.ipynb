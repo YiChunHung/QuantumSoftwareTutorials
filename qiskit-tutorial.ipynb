{
 "cells": [
  {
   "cell_type": "markdown",
   "id": "6fced9f5-7478-4a06-9a32-5919b942d5e6",
   "metadata": {},
   "source": [
    "# Qiskit Tutorial Notebook\n",
    "\n",
    "Qiskit is an open-source Python library for quantum computing. It can be used to create and analyze quantum circuits, or programs. \n",
    "Qiskit Aer is a quantum circuit simulation framework written in Qiskit. Qiskit Runtime provides an interface between quantum programs and quantum hardware, allowing for the execution of circuits on real quantum machines.\n",
    "\n",
    "In this notebook, we will learn the basics of Qiskit. We will review how to build circuits, run an ideal simulation, and execute an experiment on a quantum computer (QC). To run this notebook, please [follow these instructions](https://docs.quantum.ibm.com/start/install) in the Qiskit documentation to install `qiskit`, `qiskit-ibm-runtime`, and `jupyter`. In addition, please install `qiskit-aer` following the instructions [here](https://github.com/Qiskit/qiskit-aer). To interact with IBM QCs, please make an [IBM Quantum account](https://www.ibm.com/quantum)."
   ]
  },
  {
   "cell_type": "code",
   "execution_count": 1,
   "id": "28f034f8-cdc1-4315-b6c1-a4af38b4c338",
   "metadata": {},
   "outputs": [],
   "source": [
    "import qiskit"
   ]
  },
  {
   "cell_type": "markdown",
   "id": "9602eb65-5414-4c83-ac6c-c22efd78f687",
   "metadata": {},
   "source": [
    "# 1. Building and Studying Circuits\n",
    "\n",
    "We will start by creating a quantum register that holds quantum circuit data and a classical register that holds quantum circuit measurement outcomes. We will create a `QuantumCircuit` using these two objects. "
   ]
  },
  {
   "cell_type": "code",
   "execution_count": 2,
   "id": "298c32ae-2c16-4afa-af0f-273e9e49f4d5",
   "metadata": {},
   "outputs": [
    {
     "data": {
      "text/html": [
       "<pre style=\"word-wrap: normal;white-space: pre;background: #fff0;line-height: 1.1;font-family: &quot;Courier New&quot;,Courier,monospace\">         \n",
       "q_reg_0: \n",
       "         \n",
       "q_reg_1: \n",
       "         \n",
       "c_reg: 2/\n",
       "         </pre>"
      ],
      "text/plain": [
       "         \n",
       "q_reg_0: \n",
       "         \n",
       "q_reg_1: \n",
       "         \n",
       "c_reg: 2/\n",
       "         "
      ]
     },
     "execution_count": 2,
     "metadata": {},
     "output_type": "execute_result"
    }
   ],
   "source": [
    "q_reg = qiskit.QuantumRegister(2, \"q_reg\")\n",
    "c_reg = qiskit.ClassicalRegister(2, \"c_reg\")\n",
    "\n",
    "circ = qiskit.QuantumCircuit(q_reg, c_reg)\n",
    "circ.draw(fold=-1)"
   ]
  },
  {
   "cell_type": "markdown",
   "id": "95873585-7935-457c-b5e5-402b30c7bd5b",
   "metadata": {},
   "source": [
    "Right now, our circuit doesn't hold any information, but we can add some operations. Qiskit out of the box supports many operators, like the controlled-X (CX) gate: "
   ]
  },
  {
   "cell_type": "code",
   "execution_count": 3,
   "id": "10876172-7a5c-4f2d-ae4a-da4573f93948",
   "metadata": {},
   "outputs": [
    {
     "data": {
      "text/html": [
       "<pre style=\"word-wrap: normal;white-space: pre;background: #fff0;line-height: 1.1;font-family: &quot;Courier New&quot;,Courier,monospace\">              \n",
       "q_reg_0: ──■──\n",
       "         ┌─┴─┐\n",
       "q_reg_1: ┤ X ├\n",
       "         └───┘\n",
       "c_reg: 2/═════\n",
       "              </pre>"
      ],
      "text/plain": [
       "              \n",
       "q_reg_0: ──■──\n",
       "         ┌─┴─┐\n",
       "q_reg_1: ┤ X ├\n",
       "         └───┘\n",
       "c_reg: 2/═════\n",
       "              "
      ]
     },
     "execution_count": 3,
     "metadata": {},
     "output_type": "execute_result"
    }
   ],
   "source": [
    "circ.cx(0, 1)\n",
    "circ.draw(fold=-1)"
   ]
  },
  {
   "cell_type": "markdown",
   "id": "e56abaa6-19d7-411d-937a-bf99bed5d7e2",
   "metadata": {},
   "source": [
    "Using `quantum_info.Operator`, we can study the matrix associated with the quantum circuit. Take note that the CX matrix is `flipped' compared to how we are used to seeing it in quantum computing references. This is because of the default qubit ordering used by Qiskit (q1,q0)."
   ]
  },
  {
   "cell_type": "code",
   "execution_count": 4,
   "id": "402a1523-4da3-4c1f-ae7b-ac14b610a140",
   "metadata": {},
   "outputs": [
    {
     "name": "stdout",
     "output_type": "stream",
     "text": [
      "Operator([[1.+0.j, 0.+0.j, 0.+0.j, 0.+0.j],\n",
      "          [0.+0.j, 0.+0.j, 0.+0.j, 1.+0.j],\n",
      "          [0.+0.j, 0.+0.j, 1.+0.j, 0.+0.j],\n",
      "          [0.+0.j, 1.+0.j, 0.+0.j, 0.+0.j]],\n",
      "         input_dims=(2, 2), output_dims=(2, 2))\n"
     ]
    }
   ],
   "source": [
    "qiskit.quantum_info.Operator(circ)"
   ]
  },
  {
   "cell_type": "markdown",
   "id": "35c9b5f7-39a2-460c-a6e7-e052ab03c081",
   "metadata": {},
   "source": [
    "Using `reverse_bits()` can help when studying quantum circuits:"
   ]
  },
  {
   "cell_type": "code",
   "execution_count": 5,
   "id": "dba01739-7364-49c5-9d46-4c4fa89db1c0",
   "metadata": {},
   "outputs": [
    {
     "name": "stdout",
     "output_type": "stream",
     "text": [
      "Operator([[1.+0.j, 0.+0.j, 0.+0.j, 0.+0.j],\n",
      "          [0.+0.j, 1.+0.j, 0.+0.j, 0.+0.j],\n",
      "          [0.+0.j, 0.+0.j, 0.+0.j, 1.+0.j],\n",
      "          [0.+0.j, 0.+0.j, 1.+0.j, 0.+0.j]],\n",
      "         input_dims=(2, 2), output_dims=(2, 2))\n"
     ]
    }
   ],
   "source": [
    "qiskit.quantum_info.Operator(circ.reverse_bits())"
   ]
  },
  {
   "cell_type": "markdown",
   "id": "8bd1dd55-33ec-4ebc-8fb8-d888e292f73b",
   "metadata": {},
   "source": [
    "Custom operations can easily be added to a quantum circuit. Let's add an open (i.e. activated by |0>) CX gate:"
   ]
  },
  {
   "cell_type": "code",
   "execution_count": 6,
   "id": "fd7ba274-d0a1-447a-a4bb-4254a73527c5",
   "metadata": {},
   "outputs": [
    {
     "data": {
      "text/html": [
       "<pre style=\"word-wrap: normal;white-space: pre;background: #fff0;line-height: 1.1;font-family: &quot;Courier New&quot;,Courier,monospace\">         ┌──────────┐\n",
       "q_reg_0: ┤0         ├\n",
       "         │  open_cx │\n",
       "q_reg_1: ┤1         ├\n",
       "         └──────────┘\n",
       "c_reg: 2/════════════\n",
       "                     </pre>"
      ],
      "text/plain": [
       "         ┌──────────┐\n",
       "q_reg_0: ┤0         ├\n",
       "         │  open_cx │\n",
       "q_reg_1: ┤1         ├\n",
       "         └──────────┘\n",
       "c_reg: 2/════════════\n",
       "                     "
      ]
     },
     "execution_count": 6,
     "metadata": {},
     "output_type": "execute_result"
    }
   ],
   "source": [
    "from qiskit.quantum_info.operators import Operator\n",
    "\n",
    "circ = qiskit.QuantumCircuit(q_reg, c_reg)\n",
    "open_cx = Operator([[0, 0, 1, 0],\n",
    "                   [0, 1, 0, 0],\n",
    "                   [1, 0, 0, 0],\n",
    "                   [0, 0, 0, 1]])\n",
    "\n",
    "circ.unitary(open_cx, [0, 1], label=\"open_cx\")\n",
    "circ.draw(fold=-1)"
   ]
  },
  {
   "cell_type": "markdown",
   "id": "8fb16431-560e-4ef4-be56-120d957910d8",
   "metadata": {},
   "source": [
    "Now let's check if the operation functionality is as expected. We will build a circuit that includes X gates around the control of a CX operation for comparision:"
   ]
  },
  {
   "cell_type": "code",
   "execution_count": 7,
   "id": "0b9f2d08-1b02-4f7d-ad83-420344f773f3",
   "metadata": {},
   "outputs": [
    {
     "data": {
      "text/html": [
       "<pre style=\"word-wrap: normal;white-space: pre;background: #fff0;line-height: 1.1;font-family: &quot;Courier New&quot;,Courier,monospace\">         ┌───┐     ┌───┐\n",
       "q_reg_0: ┤ X ├──■──┤ X ├\n",
       "         └───┘┌─┴─┐└───┘\n",
       "q_reg_1: ─────┤ X ├─────\n",
       "              └───┘     \n",
       "c_reg: 2/═══════════════\n",
       "                        </pre>"
      ],
      "text/plain": [
       "         ┌───┐     ┌───┐\n",
       "q_reg_0: ┤ X ├──■──┤ X ├\n",
       "         └───┘┌─┴─┐└───┘\n",
       "q_reg_1: ─────┤ X ├─────\n",
       "              └───┘     \n",
       "c_reg: 2/═══════════════\n",
       "                        "
      ]
     },
     "execution_count": 7,
     "metadata": {},
     "output_type": "execute_result"
    }
   ],
   "source": [
    "check_circ = qiskit.QuantumCircuit(q_reg, c_reg)\n",
    "check_circ.x(0)\n",
    "check_circ.cx(0, 1)\n",
    "check_circ.x(0)\n",
    "check_circ.draw(fold=-1)"
   ]
  },
  {
   "cell_type": "code",
   "execution_count": 8,
   "id": "9c6ba807-5633-4048-aaeb-d355ecaac39f",
   "metadata": {},
   "outputs": [
    {
     "data": {
      "text/plain": [
       "array([[ True,  True,  True,  True],\n",
       "       [ True,  True,  True,  True],\n",
       "       [ True,  True,  True,  True],\n",
       "       [ True,  True,  True,  True]])"
      ]
     },
     "execution_count": 8,
     "metadata": {},
     "output_type": "execute_result"
    }
   ],
   "source": [
    "op1 = qiskit.quantum_info.Operator(circ)\n",
    "op2 = qiskit.quantum_info.Operator(check_circ)\n",
    "\n",
    "op1.data == op2.data"
   ]
  },
  {
   "cell_type": "markdown",
   "id": "f4847f15-68f1-428f-b422-65661d4438f3",
   "metadata": {},
   "source": [
    "Qiskit allows many ways for a user to modify a circuit. Let's first create a [Bell State](https://en.wikipedia.org/wiki/Bell_state) Generator (BSG) circuit and then use `transpile` to express the circuit using the gate set SX, X, RZ, CZ:"
   ]
  },
  {
   "cell_type": "code",
   "execution_count": 9,
   "id": "9f34cf80-6695-405a-9cce-38ca6852b1c3",
   "metadata": {},
   "outputs": [
    {
     "data": {
      "text/html": [
       "<pre style=\"word-wrap: normal;white-space: pre;background: #fff0;line-height: 1.1;font-family: &quot;Courier New&quot;,Courier,monospace\">         ┌───┐     \n",
       "q_reg_0: ┤ H ├──■──\n",
       "         └───┘┌─┴─┐\n",
       "q_reg_1: ─────┤ X ├\n",
       "              └───┘\n",
       "c_reg: 2/══════════\n",
       "                   </pre>"
      ],
      "text/plain": [
       "         ┌───┐     \n",
       "q_reg_0: ┤ H ├──■──\n",
       "         └───┘┌─┴─┐\n",
       "q_reg_1: ─────┤ X ├\n",
       "              └───┘\n",
       "c_reg: 2/══════════\n",
       "                   "
      ]
     },
     "execution_count": 9,
     "metadata": {},
     "output_type": "execute_result"
    }
   ],
   "source": [
    "bsg = qiskit.QuantumCircuit(q_reg, c_reg)\n",
    "bsg.h(0)\n",
    "bsg.cx(0, 1)\n",
    "bsg.draw(fold=-1)"
   ]
  },
  {
   "cell_type": "code",
   "execution_count": 10,
   "id": "bd7da24c-108d-4939-83a7-e7b6b7f10fc8",
   "metadata": {},
   "outputs": [
    {
     "data": {
      "text/html": [
       "<pre style=\"word-wrap: normal;white-space: pre;background: #fff0;line-height: 1.1;font-family: &quot;Courier New&quot;,Courier,monospace\">global phase: 3π/4\n",
       "         ┌─────────┐┌────┐┌─────────┐                               \n",
       "q_reg_0: ┤ Rz(π/2) ├┤ √X ├┤ Rz(π/2) ├─■─────────────────────────────\n",
       "         ├─────────┤├────┤├─────────┤ │ ┌─────────┐┌────┐┌─────────┐\n",
       "q_reg_1: ┤ Rz(π/2) ├┤ √X ├┤ Rz(π/2) ├─■─┤ Rz(π/2) ├┤ √X ├┤ Rz(π/2) ├\n",
       "         └─────────┘└────┘└─────────┘   └─────────┘└────┘└─────────┘\n",
       "c_reg: 2/═══════════════════════════════════════════════════════════\n",
       "                                                                    </pre>"
      ],
      "text/plain": [
       "global phase: 3π/4\n",
       "         ┌─────────┐┌────┐┌─────────┐                               \n",
       "q_reg_0: ┤ Rz(π/2) ├┤ √X ├┤ Rz(π/2) ├─■─────────────────────────────\n",
       "         ├─────────┤├────┤├─────────┤ │ ┌─────────┐┌────┐┌─────────┐\n",
       "q_reg_1: ┤ Rz(π/2) ├┤ √X ├┤ Rz(π/2) ├─■─┤ Rz(π/2) ├┤ √X ├┤ Rz(π/2) ├\n",
       "         └─────────┘└────┘└─────────┘   └─────────┘└────┘└─────────┘\n",
       "c_reg: 2/═══════════════════════════════════════════════════════════\n",
       "                                                                    "
      ]
     },
     "execution_count": 10,
     "metadata": {},
     "output_type": "execute_result"
    }
   ],
   "source": [
    "basis_gates = [\"sx\", \"x\", \"rz\", \"cz\"]\n",
    "\n",
    "new_bsg = qiskit.transpile(bsg, basis_gates=basis_gates)\n",
    "\n",
    "new_bsg.draw(fold=-1)"
   ]
  },
  {
   "cell_type": "markdown",
   "id": "8d947d69-c1db-4883-9f71-fad18f3951f6",
   "metadata": {},
   "source": [
    "# 2. Ideal Circuit Simulation\n",
    "Here, we will simulate our Bell State Generator Circuits that we created in the last section and compare their outcomes. First, we need to add measurements to both circuits:"
   ]
  },
  {
   "cell_type": "code",
   "execution_count": 11,
   "id": "8da09089-64c4-4206-84c7-9ac55a6220f6",
   "metadata": {},
   "outputs": [
    {
     "data": {
      "text/html": [
       "<pre style=\"word-wrap: normal;white-space: pre;background: #fff0;line-height: 1.1;font-family: &quot;Courier New&quot;,Courier,monospace\">         ┌───┐     ┌─┐   \n",
       "q_reg_0: ┤ H ├──■──┤M├───\n",
       "         └───┘┌─┴─┐└╥┘┌─┐\n",
       "q_reg_1: ─────┤ X ├─╫─┤M├\n",
       "              └───┘ ║ └╥┘\n",
       "c_reg: 2/═══════════╩══╩═\n",
       "                    0  1 </pre>"
      ],
      "text/plain": [
       "         ┌───┐     ┌─┐   \n",
       "q_reg_0: ┤ H ├──■──┤M├───\n",
       "         └───┘┌─┴─┐└╥┘┌─┐\n",
       "q_reg_1: ─────┤ X ├─╫─┤M├\n",
       "              └───┘ ║ └╥┘\n",
       "c_reg: 2/═══════════╩══╩═\n",
       "                    0  1 "
      ]
     },
     "execution_count": 11,
     "metadata": {},
     "output_type": "execute_result"
    }
   ],
   "source": [
    "bsg.measure(q_reg, c_reg)\n",
    "bsg.draw(fold=-1)"
   ]
  },
  {
   "cell_type": "code",
   "execution_count": 12,
   "id": "8e4047d4-56c1-44f5-a8be-669250c33ffa",
   "metadata": {},
   "outputs": [
    {
     "data": {
      "text/html": [
       "<pre style=\"word-wrap: normal;white-space: pre;background: #fff0;line-height: 1.1;font-family: &quot;Courier New&quot;,Courier,monospace\">global phase: 3π/4\n",
       "         ┌─────────┐┌────┐┌─────────┐              ┌─┐                    \n",
       "q_reg_0: ┤ Rz(π/2) ├┤ √X ├┤ Rz(π/2) ├─■────────────┤M├────────────────────\n",
       "         ├─────────┤├────┤├─────────┤ │ ┌─────────┐└╥┘┌────┐┌─────────┐┌─┐\n",
       "q_reg_1: ┤ Rz(π/2) ├┤ √X ├┤ Rz(π/2) ├─■─┤ Rz(π/2) ├─╫─┤ √X ├┤ Rz(π/2) ├┤M├\n",
       "         └─────────┘└────┘└─────────┘   └─────────┘ ║ └────┘└─────────┘└╥┘\n",
       "c_reg: 2/═══════════════════════════════════════════╩═══════════════════╩═\n",
       "                                                    0                   1 </pre>"
      ],
      "text/plain": [
       "global phase: 3π/4\n",
       "         ┌─────────┐┌────┐┌─────────┐              ┌─┐                    \n",
       "q_reg_0: ┤ Rz(π/2) ├┤ √X ├┤ Rz(π/2) ├─■────────────┤M├────────────────────\n",
       "         ├─────────┤├────┤├─────────┤ │ ┌─────────┐└╥┘┌────┐┌─────────┐┌─┐\n",
       "q_reg_1: ┤ Rz(π/2) ├┤ √X ├┤ Rz(π/2) ├─■─┤ Rz(π/2) ├─╫─┤ √X ├┤ Rz(π/2) ├┤M├\n",
       "         └─────────┘└────┘└─────────┘   └─────────┘ ║ └────┘└─────────┘└╥┘\n",
       "c_reg: 2/═══════════════════════════════════════════╩═══════════════════╩═\n",
       "                                                    0                   1 "
      ]
     },
     "execution_count": 12,
     "metadata": {},
     "output_type": "execute_result"
    }
   ],
   "source": [
    "new_bsg.measure(q_reg, c_reg)\n",
    "new_bsg.draw(fold=-1)"
   ]
  },
  {
   "cell_type": "markdown",
   "id": "a4317d77-c4a3-4e8b-8b74-5dc3298ee915",
   "metadata": {},
   "source": [
    "Now we will use Qiskit Aer to simulate the circuits with 1000 shots. We will plot the corresponding output distributions. While there is some shot noise, we find that both distributions are very similar!"
   ]
  },
  {
   "cell_type": "code",
   "execution_count": 13,
   "id": "43ca5e50-23fe-488a-9faf-54011a355983",
   "metadata": {},
   "outputs": [],
   "source": [
    "import qiskit_aer\n",
    "from qiskit.visualization import plot_histogram\n",
    "\n",
    "sim_ideal = qiskit_aer.AerSimulator()"
   ]
  },
  {
   "cell_type": "code",
   "execution_count": 14,
   "id": "9f07025e-17f0-414c-9b4f-664844292910",
   "metadata": {},
   "outputs": [
    {
     "data": {
      "image/png": "[encoded data removed]",
      "text/plain": [
       "<Figure size 700x500 with 1 Axes>"
      ]
     },
     "execution_count": 14,
     "metadata": {},
     "output_type": "execute_result"
    }
   ],
   "source": [
    "sim_bsg = sim_ideal.run(bsg, shots=1000)\n",
    "plot_histogram(sim_bsg.result().get_counts(), title=\"Original BSG - Simulation\")"
   ]
  },
  {
   "cell_type": "code",
   "execution_count": 15,
   "id": "a40818ec-970c-49d2-98b2-91e3793da359",
   "metadata": {},
   "outputs": [
    {
     "data": {
      "image/png": "[encoded data removed]",
      "text/plain": [
       "<Figure size 700x500 with 1 Axes>"
      ]
     },
     "execution_count": 15,
     "metadata": {},
     "output_type": "execute_result"
    }
   ],
   "source": [
    "sim_new_bsg = sim_ideal.run(new_bsg, shots=1000)\n",
    "plot_histogram(sim_new_bsg.result().get_counts(), title=\"New BSG - Simulation\")"
   ]
  },
  {
   "cell_type": "markdown",
   "id": "0f9c2535-3b12-4aff-aadf-a2a8ebf33001",
   "metadata": {},
   "source": [
    "## 3. Interacting with Quantum Machines\n",
    "\n",
    "Here, we will use a Runtime Service to interact with IBM quantum hardware. To access backends, we must use our IBM Quantum API Key."
   ]
  },
  {
   "cell_type": "code",
   "execution_count": 16,
   "id": "36cc50ad-db1b-476f-8184-ffed9e2900bc",
   "metadata": {},
   "outputs": [],
   "source": [
    "import qiskit_ibm_runtime\n",
    "from qiskit_ibm_runtime import QiskitRuntimeService\n",
    "\n",
    "token = os.environ[\"IBMQ_API_KEY\"]\n",
    "\n",
    "QiskitRuntimeService.save_account(channel=\"ibm_quantum\", token=token, overwrite=True)\n",
    "\n",
    "service = QiskitRuntimeService(channel=\"ibm_quantum\")"
   ]
  },
  {
   "cell_type": "markdown",
   "id": "1e29bb36-9e84-4f5f-8fdc-63133ce3bbbb",
   "metadata": {},
   "source": [
    "You can examine what backends, classical simulators, and quantum hardware, are available for use:"
   ]
  },
  {
   "cell_type": "code",
   "execution_count": 17,
   "id": "a31c0ef9-b287-48bb-818d-11d7b07d012e",
   "metadata": {},
   "outputs": [
    {
     "data": {
      "text/plain": [
       "[<IBMBackend('simulator_stabilizer')>,\n",
       " <IBMBackend('ibm_brisbane')>,\n",
       " <IBMBackend('ibm_kyoto')>,\n",
       " <IBMBackend('ibm_osaka')>,\n",
       " <IBMBackend('ibmq_qasm_simulator')>,\n",
       " <IBMBackend('simulator_extended_stabilizer')>,\n",
       " <IBMBackend('simulator_mps')>,\n",
       " <IBMBackend('simulator_statevector')>]"
      ]
     },
     "execution_count": 17,
     "metadata": {},
     "output_type": "execute_result"
    }
   ],
   "source": [
    "service.backends()"
   ]
  },
  {
   "cell_type": "markdown",
   "id": "3dd12ace-3c95-4c13-ae42-e15d51892b39",
   "metadata": {},
   "source": [
    "Let's choose IBM Osaka as our target QC:"
   ]
  },
  {
   "cell_type": "code",
   "execution_count": 18,
   "id": "c875305b-49d0-4504-862b-853bb4adec68",
   "metadata": {},
   "outputs": [],
   "source": [
    "ibmq_osaka = service.get_backend(\"ibm_osaka\")"
   ]
  },
  {
   "cell_type": "markdown",
   "id": "03b96833-1a71-4f09-8a0b-3045bb9378cf",
   "metadata": {},
   "source": [
    "We can learn more about the target backend (qubit error, gate durations, qubit connectivity, etc.) by examining the QC's `properties()` and `configuration()`. Let's look at the gate set associated with this machine:"
   ]
  },
  {
   "cell_type": "code",
   "execution_count": 19,
   "id": "19f78bb2-c0a0-4ba9-816b-c5ab0ba1e176",
   "metadata": {},
   "outputs": [
    {
     "data": {
      "text/plain": [
       "['ecr', 'id', 'rz', 'sx', 'x']"
      ]
     },
     "execution_count": 19,
     "metadata": {},
     "output_type": "execute_result"
    }
   ],
   "source": [
    "ibmq_osaka.configuration().basis_gates"
   ]
  },
  {
   "cell_type": "markdown",
   "id": "bd10f71d-6339-4f09-aa03-5c1615d93128",
   "metadata": {},
   "source": [
    "These gates are different from those used in our circuits above. Before we can run our circuits on the QC, we must `transpile` using the backend information so that they are compatable with the hardware:"
   ]
  },
  {
   "cell_type": "code",
   "execution_count": 20,
   "id": "3a44f51d-c709-4a7c-9b1c-471fdfd4f887",
   "metadata": {},
   "outputs": [
    {
     "data": {
      "text/html": [
       "<pre style=\"word-wrap: normal;white-space: pre;background: #fff0;line-height: 1.1;font-family: &quot;Courier New&quot;,Courier,monospace\">global phase: 3π/4\n",
       "             ┌─────────┐   ┌────┐  ┌─────────┐┌──────────┐┌─────────┐   ┌────┐   ┌──────────┐           ┌──────┐┌─────────┐┌────┐┌─────────┐┌───┐┌─┐\n",
       "q_reg_0 -> 0 ┤ Rz(π/2) ├───┤ √X ├──┤ Rz(π/2) ├┤ Rz(-π/2) ├┤ Rz(π/2) ├───┤ √X ├───┤ Rz(-π/2) ├───────────┤1     ├┤ Rz(π/2) ├┤ √X ├┤ Rz(π/2) ├┤ X ├┤M├\n",
       "             ├─────────┤┌──┴────┴─┐└──┬────┬─┘├─────────┬┘├─────────┤┌──┴────┴──┐└──┬────┬──┘┌─────────┐│  Ecr │├─────────┤├────┤├─────────┤└┬─┬┘└╥┘\n",
       "q_reg_1 -> 1 ┤ Rz(π/2) ├┤ Rz(π/2) ├───┤ √X ├──┤ Rz(π/2) ├─┤ Rz(π/2) ├┤ Rz(-π/2) ├───┤ √X ├───┤ Rz(π/2) ├┤0     ├┤ Rz(π/2) ├┤ √X ├┤ Rz(π/2) ├─┤M├──╫─\n",
       "             └─────────┘└─────────┘   └────┘  └─────────┘ └─────────┘└──────────┘   └────┘   └─────────┘└──────┘└─────────┘└────┘└─────────┘ └╥┘  ║ \n",
       "    c_reg: 2/═════════════════════════════════════════════════════════════════════════════════════════════════════════════════════════════════╩═══╩═\n",
       "                                                                                                                                              1   0 </pre>"
      ],
      "text/plain": [
       "global phase: 3π/4\n",
       "             ┌─────────┐   ┌────┐  ┌─────────┐┌──────────┐┌─────────┐   ┌────┐   ┌──────────┐           ┌──────┐┌─────────┐┌────┐┌─────────┐┌───┐┌─┐\n",
       "q_reg_0 -> 0 ┤ Rz(π/2) ├───┤ √X ├──┤ Rz(π/2) ├┤ Rz(-π/2) ├┤ Rz(π/2) ├───┤ √X ├───┤ Rz(-π/2) ├───────────┤1     ├┤ Rz(π/2) ├┤ √X ├┤ Rz(π/2) ├┤ X ├┤M├\n",
       "             ├─────────┤┌──┴────┴─┐└──┬────┬─┘├─────────┬┘├─────────┤┌──┴────┴──┐└──┬────┬──┘┌─────────┐│  Ecr │├─────────┤├────┤├─────────┤└┬─┬┘└╥┘\n",
       "q_reg_1 -> 1 ┤ Rz(π/2) ├┤ Rz(π/2) ├───┤ √X ├──┤ Rz(π/2) ├─┤ Rz(π/2) ├┤ Rz(-π/2) ├───┤ √X ├───┤ Rz(π/2) ├┤0     ├┤ Rz(π/2) ├┤ √X ├┤ Rz(π/2) ├─┤M├──╫─\n",
       "             └─────────┘└─────────┘   └────┘  └─────────┘ └─────────┘└──────────┘   └────┘   └─────────┘└──────┘└─────────┘└────┘└─────────┘ └╥┘  ║ \n",
       "    c_reg: 2/═════════════════════════════════════════════════════════════════════════════════════════════════════════════════════════════════╩═══╩═\n",
       "                                                                                                                                              1   0 "
      ]
     },
     "execution_count": 20,
     "metadata": {},
     "output_type": "execute_result"
    }
   ],
   "source": [
    "transpiled_bsg = qiskit.transpile(bsg, ibmq_osaka, optimization_level=0)\n",
    "transpiled_bsg.draw(fold=-1, idle_wires=False)"
   ]
  },
  {
   "cell_type": "code",
   "execution_count": 21,
   "id": "020e04b5-6960-4d3a-ad4d-c9d17b9ba58d",
   "metadata": {},
   "outputs": [
    {
     "data": {
      "text/html": [
       "<pre style=\"word-wrap: normal;white-space: pre;background: #fff0;line-height: 1.1;font-family: &quot;Courier New&quot;,Courier,monospace\">global phase: 7π/4\n",
       "             ┌─────────┐┌────┐┌─────────┐┌──────────┐┌─────────┐   ┌────┐  ┌──────────┐                                                                    ┌──────┐┌─────────┐┌────┐┌─────────┐   ┌───┐         ┌─┐                                          \n",
       "q_reg_0 -> 0 ┤ Rz(π/2) ├┤ √X ├┤ Rz(π/2) ├┤ Rz(-π/2) ├┤ Rz(π/2) ├───┤ √X ├──┤ Rz(-π/2) ├────────────────────────────────────────────────────────────────────┤1     ├┤ Rz(π/2) ├┤ √X ├┤ Rz(π/2) ├───┤ X ├─────────┤M├──────────────────────────────────────────\n",
       "             ├─────────┤├────┤├─────────┤├─────────┬┘└──┬────┬─┘┌──┴────┴─┐├─────────┬┘┌─────────┐┌────┐┌─────────┐┌─────────┐┌──────────┐┌────┐┌─────────┐│  Ecr │├─────────┤├────┤├─────────┤┌──┴───┴──┐┌────┐└╥┘┌─────────┐┌─────────┐┌────┐┌─────────┐┌─┐\n",
       "q_reg_1 -> 1 ┤ Rz(π/2) ├┤ √X ├┤ Rz(π/2) ├┤ Rz(π/2) ├────┤ √X ├──┤ Rz(π/2) ├┤ Rz(π/2) ├─┤ Rz(π/2) ├┤ √X ├┤ Rz(π/2) ├┤ Rz(π/2) ├┤ Rz(-π/2) ├┤ √X ├┤ Rz(π/2) ├┤0     ├┤ Rz(π/2) ├┤ √X ├┤ Rz(π/2) ├┤ Rz(π/2) ├┤ √X ├─╫─┤ Rz(π/2) ├┤ Rz(π/2) ├┤ √X ├┤ Rz(π/2) ├┤M├\n",
       "             └─────────┘└────┘└─────────┘└─────────┘    └────┘  └─────────┘└─────────┘ └─────────┘└────┘└─────────┘└─────────┘└──────────┘└────┘└─────────┘└──────┘└─────────┘└────┘└─────────┘└─────────┘└────┘ ║ └─────────┘└─────────┘└────┘└─────────┘└╥┘\n",
       "    c_reg: 2/════════════════════════════════════════════════════════════════════════════════════════════════════════════════════════════════════════════════════════════════════════════════════════════════════╩═════════════════════════════════════════╩═\n",
       "                                                                                                                                                                                                                 0                                         1 </pre>"
      ],
      "text/plain": [
       "global phase: 7π/4\n",
       "             ┌─────────┐┌────┐┌─────────┐┌──────────┐┌─────────┐   ┌────┐  ┌──────────┐                                                                    ┌──────┐┌─────────┐┌────┐┌─────────┐   ┌───┐         ┌─┐                                          \n",
       "q_reg_0 -> 0 ┤ Rz(π/2) ├┤ √X ├┤ Rz(π/2) ├┤ Rz(-π/2) ├┤ Rz(π/2) ├───┤ √X ├──┤ Rz(-π/2) ├────────────────────────────────────────────────────────────────────┤1     ├┤ Rz(π/2) ├┤ √X ├┤ Rz(π/2) ├───┤ X ├─────────┤M├──────────────────────────────────────────\n",
       "             ├─────────┤├────┤├─────────┤├─────────┬┘└──┬────┬─┘┌──┴────┴─┐├─────────┬┘┌─────────┐┌────┐┌─────────┐┌─────────┐┌──────────┐┌────┐┌─────────┐│  Ecr │├─────────┤├────┤├─────────┤┌──┴───┴──┐┌────┐└╥┘┌─────────┐┌─────────┐┌────┐┌─────────┐┌─┐\n",
       "q_reg_1 -> 1 ┤ Rz(π/2) ├┤ √X ├┤ Rz(π/2) ├┤ Rz(π/2) ├────┤ √X ├──┤ Rz(π/2) ├┤ Rz(π/2) ├─┤ Rz(π/2) ├┤ √X ├┤ Rz(π/2) ├┤ Rz(π/2) ├┤ Rz(-π/2) ├┤ √X ├┤ Rz(π/2) ├┤0     ├┤ Rz(π/2) ├┤ √X ├┤ Rz(π/2) ├┤ Rz(π/2) ├┤ √X ├─╫─┤ Rz(π/2) ├┤ Rz(π/2) ├┤ √X ├┤ Rz(π/2) ├┤M├\n",
       "             └─────────┘└────┘└─────────┘└─────────┘    └────┘  └─────────┘└─────────┘ └─────────┘└────┘└─────────┘└─────────┘└──────────┘└────┘└─────────┘└──────┘└─────────┘└────┘└─────────┘└─────────┘└────┘ ║ └─────────┘└─────────┘└────┘└─────────┘└╥┘\n",
       "    c_reg: 2/════════════════════════════════════════════════════════════════════════════════════════════════════════════════════════════════════════════════════════════════════════════════════════════════════╩═════════════════════════════════════════╩═\n",
       "                                                                                                                                                                                                                 0                                         1 "
      ]
     },
     "execution_count": 21,
     "metadata": {},
     "output_type": "execute_result"
    }
   ],
   "source": [
    "transpiled_new_bsg = qiskit.transpile(new_bsg, ibmq_osaka, optimization_level=0)\n",
    "transpiled_new_bsg.draw(fold=-1, idle_wires=False)"
   ]
  },
  {
   "cell_type": "markdown",
   "id": "e57dda86-9f6e-4a38-89c4-2211a394264c",
   "metadata": {},
   "source": [
    "Now let's run an experiment using our Bell Stat Generator circuits!"
   ]
  },
  {
   "cell_type": "code",
   "execution_count": 22,
   "id": "91d16e96-d798-48ed-a35c-281531575e30",
   "metadata": {},
   "outputs": [],
   "source": [
    "options = qiskit_ibm_runtime.Options(optimization_level=0)\n",
    "sampler = qiskit_ibm_runtime.Sampler(backend=ibmq_osaka, options=options)"
   ]
  },
  {
   "cell_type": "code",
   "execution_count": 23,
   "id": "655792e4-6859-430e-adfb-01bcb9d698f0",
   "metadata": {},
   "outputs": [],
   "source": [
    "job = sampler.run([transpiled_bsg, transpiled_new_bsg], shots=1000)"
   ]
  },
  {
   "cell_type": "code",
   "execution_count": 24,
   "id": "4298cb03-cd19-401e-8d0e-1427d5bd5531",
   "metadata": {},
   "outputs": [
    {
     "data": {
      "text/plain": [
       "<JobStatus.DONE: 'job has successfully run'>"
      ]
     },
     "execution_count": 24,
     "metadata": {},
     "output_type": "execute_result"
    }
   ],
   "source": [
    "job.status()"
   ]
  },
  {
   "cell_type": "markdown",
   "id": "c5aed955-6a3d-400d-a498-891b61a04c30",
   "metadata": {},
   "source": [
    "Finally, we examine the results:"
   ]
  },
  {
   "cell_type": "code",
   "execution_count": 25,
   "id": "5d9b602a-8754-4971-9ff2-fd06bf19e7b6",
   "metadata": {},
   "outputs": [],
   "source": [
    "result = job.result()"
   ]
  },
  {
   "cell_type": "code",
   "execution_count": 26,
   "id": "7d65f4b3-4caf-4080-8830-abe221fa3084",
   "metadata": {},
   "outputs": [
    {
     "data": {
      "image/png": "[encoded data removed]",
      "text/plain": [
       "<Figure size 700x500 with 1 Axes>"
      ]
     },
     "execution_count": 26,
     "metadata": {},
     "output_type": "execute_result"
    }
   ],
   "source": [
    "plot_histogram(result.quasi_dists[0], title=\"Original BSG - QC Run\")"
   ]
  },
  {
   "cell_type": "code",
   "execution_count": 27,
   "id": "a4cdc612-57c5-4dab-90e7-8991bcfe0103",
   "metadata": {},
   "outputs": [
    {
     "data": {
      "image/png": "[encoded data removed]",
      "text/plain": [
       "<Figure size 700x500 with 1 Axes>"
      ]
     },
     "execution_count": 27,
     "metadata": {},
     "output_type": "execute_result"
    }
   ],
   "source": [
    "plot_histogram(result.quasi_dists[1], title=\"New BSG - QC Run\")"
   ]
  }
 ],
 "metadata": {
  "kernelspec": {
   "display_name": "Python 3 (ipykernel)",
   "language": "python",
   "name": "python3"
  },
  "language_info": {
   "codemirror_mode": {
    "name": "ipython",
    "version": 3
   },
   "file_extension": ".py",
   "mimetype": "text/x-python",
   "name": "python",
   "nbconvert_exporter": "python",
   "pygments_lexer": "ipython3",
   "version": "3.11.0"
  }
 },
 "nbformat": 4,
 "nbformat_minor": 5
}
